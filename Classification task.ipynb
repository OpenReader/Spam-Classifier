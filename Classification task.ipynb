{
 "cells": [
  {
   "cell_type": "markdown",
   "metadata": {},
   "source": [
    "# Classification task: Spam Classifier\n",
    "\n",
    "* author: Haochen Guo\n",
    "* email:  guohaoch@usc.edu\n",
    "\n",
    "In this task, I'm going to build three classifiers using Grid Search and K-Fold Cross-validation and choose the one has best performance. At last, output the result with given format."
   ]
  },
  {
   "cell_type": "markdown",
   "metadata": {},
   "source": [
    "### Load Spambase dataset\n",
    "The Spambase dataset is from the UCI Machine Learning Repository:\n",
    "http://archive.ics.uci.edu/ml/datasets/Spambase"
   ]
  },
  {
   "cell_type": "code",
   "execution_count": 1,
   "metadata": {},
   "outputs": [],
   "source": [
    "import numpy as np\n",
    "# Load Spambase dataset from disk \n",
    "data_path = \"/mnt/hgfs/data/spambase/spambase.data\"\n",
    "with open(data_path, 'r') as i_f:\n",
    "    data = np.array([[float(i) for i in line.split(',')] for line in i_f])\n",
    "# Shuffle the data\n",
    "np.random.shuffle(data)\n",
    "# Slice data into features and labels\n",
    "X = data[:, :-1]\n",
    "y = data[:, -1]\n",
    "# Free the memory\n",
    "del data"
   ]
  },
  {
   "cell_type": "markdown",
   "metadata": {},
   "source": [
    "### Building the classifier"
   ]
  },
  {
   "cell_type": "code",
   "execution_count": 2,
   "metadata": {},
   "outputs": [],
   "source": [
    "from sklearn.svm import SVC\n",
    "from sklearn.naive_bayes import MultinomialNB\n",
    "from sklearn.ensemble import RandomForestClassifier\n",
    "# parameters settings to try in Grid Search\n",
    "param_dict = {\n",
    "'svm': {'C': [1, 10, 1e2, 1e3], 'gamma': ['auto',0.001, 0.0001]}, # SVM\n",
    "'nb': {'alpha': [0.01, 0.1, 1.]}, # Multinomial Naive Bayes\n",
    "'rf': {'n_estimators': [50, 100, 150], 'criterion': ['gini', 'entropy'] } # Random Forest\n",
    "}\n",
    "# estimators\n",
    "svm = SVC(kernel='rbf', class_weight='balanced')\n",
    "nb = MultinomialNB()\n",
    "rf = RandomForestClassifier()"
   ]
  },
  {
   "cell_type": "markdown",
   "metadata": {},
   "source": [
    "Parameter tuning using Grid Search with K-Fold Cross-validation:"
   ]
  },
  {
   "cell_type": "code",
   "execution_count": 3,
   "metadata": {},
   "outputs": [
    {
     "name": "stdout",
     "output_type": "stream",
     "text": [
      "SVM:\n",
      "Best_score: 0.922191\n",
      "Best_estimator:\n",
      "SVC(C=1000.0, cache_size=200, class_weight='balanced', coef0=0.0,\n",
      "  decision_function_shape='ovr', degree=3, gamma=0.0001, kernel='rbf',\n",
      "  max_iter=-1, probability=False, random_state=None, shrinking=True,\n",
      "  tol=0.001, verbose=False)\n",
      "-------------------------------------\n",
      "Multinomial Naive Bayes:\n",
      "Best_score: 0.792871\n",
      "Best_estimator:\n",
      "MultinomialNB(alpha=0.01, class_prior=None, fit_prior=True)\n",
      "-------------------------------------\n",
      "Random Forest:\n",
      "Best_score: 0.956749\n",
      "Best_estimator:\n",
      "RandomForestClassifier(bootstrap=True, class_weight=None, criterion='gini',\n",
      "            max_depth=None, max_features='auto', max_leaf_nodes=None,\n",
      "            min_impurity_decrease=0.0, min_impurity_split=None,\n",
      "            min_samples_leaf=1, min_samples_split=2,\n",
      "            min_weight_fraction_leaf=0.0, n_estimators=100, n_jobs=None,\n",
      "            oob_score=False, random_state=None, verbose=0,\n",
      "            warm_start=False)\n",
      "-------------------------------------\n"
     ]
    }
   ],
   "source": [
    "from sklearn.model_selection import GridSearchCV\n",
    "k = 5 # K-Flod with n_splits = 5\n",
    "# find the best estimator of the best method\n",
    "s_max = 0\n",
    "for m in param_dict: # for each methods\n",
    "    if m == 'svm':\n",
    "        clf = GridSearchCV(svm, param_dict[m], cv=k)\n",
    "        clf.fit(X, y)\n",
    "        print(\"SVM:\\nBest_score: %f\\nBest_estimator:\" % clf.best_score_)\n",
    "        print(clf.best_estimator_)\n",
    "    if m == 'nb':\n",
    "        clf = GridSearchCV(nb, param_dict[m], cv=k)\n",
    "        clf.fit(X, y)\n",
    "        print(\"Multinomial Naive Bayes:\\nBest_score: %f\\nBest_estimator:\" % clf.best_score_)\n",
    "        print(clf.best_estimator_)\n",
    "    if m == 'rf':\n",
    "        clf = GridSearchCV(rf, param_dict[m], cv=k)\n",
    "        clf.fit(X, y)\n",
    "        print(\"Random Forest:\\nBest_score: %f\\nBest_estimator:\" % clf.best_score_)\n",
    "        print(clf.best_estimator_)\n",
    "    print('-------------------------------------')\n",
    "    if clf.best_score_ > s_max:\n",
    "        s_max = clf.best_score_\n",
    "        estimator = clf.best_estimator_"
   ]
  },
  {
   "cell_type": "markdown",
   "metadata": {},
   "source": [
    "Unsurprisedly, Random Forest is the best in the three."
   ]
  },
  {
   "cell_type": "markdown",
   "metadata": {},
   "source": [
    "### Evaluating with K-Fold cross-validation\n",
    "Since we cannot get false positive, flase negative, and overall error rates of each fold in the above steps, I perform K-Fold again using the best classifier and get the result:"
   ]
  },
  {
   "cell_type": "code",
   "execution_count": 4,
   "metadata": {},
   "outputs": [],
   "source": [
    "from sklearn.model_selection import KFold\n",
    "from sklearn.metrics import confusion_matrix\n",
    "k = 10\n",
    "res = np.zeros((k+1, 3)) # initial result matrix\n",
    "kf = KFold(n_splits = k)\n",
    "for i, (train_index, test_index) in enumerate(kf.split(X)): # for each fold\n",
    "    estimator.fit(X[train_index], y[train_index])\n",
    "    y_pred = estimator.predict(X[test_index])\n",
    "    tn, fp, fn, tp = confusion_matrix(y[test_index], y_pred).ravel() # get fp, fn\n",
    "    res[i] += np.array([fp, fn, fp+fn]) / len(test_index) # add to the result matrix\n",
    "res[k] += np.mean(res[:k]) # the final row corresponding to the average error rates"
   ]
  },
  {
   "cell_type": "code",
   "execution_count": 5,
   "metadata": {},
   "outputs": [
    {
     "data": {
      "text/html": [
       "<div>\n",
       "<style scoped>\n",
       "    .dataframe tbody tr th:only-of-type {\n",
       "        vertical-align: middle;\n",
       "    }\n",
       "\n",
       "    .dataframe tbody tr th {\n",
       "        vertical-align: top;\n",
       "    }\n",
       "\n",
       "    .dataframe thead th {\n",
       "        text-align: right;\n",
       "    }\n",
       "</style>\n",
       "<table border=\"1\" class=\"dataframe\">\n",
       "  <thead>\n",
       "    <tr style=\"text-align: right;\">\n",
       "      <th></th>\n",
       "      <th></th>\n",
       "      <th>FP Rate</th>\n",
       "      <th>FN Rate</th>\n",
       "      <th>Overall Error Rate</th>\n",
       "    </tr>\n",
       "  </thead>\n",
       "  <tbody>\n",
       "    <tr>\n",
       "      <th>0</th>\n",
       "      <td>F1</td>\n",
       "      <td>0.004338394793926247</td>\n",
       "      <td>0.03470715835140998</td>\n",
       "      <td>0.039045553145336226</td>\n",
       "    </tr>\n",
       "    <tr>\n",
       "      <th>1</th>\n",
       "      <td>F2</td>\n",
       "      <td>0.010869565217391304</td>\n",
       "      <td>0.02826086956521739</td>\n",
       "      <td>0.0391304347826087</td>\n",
       "    </tr>\n",
       "    <tr>\n",
       "      <th>2</th>\n",
       "      <td>F3</td>\n",
       "      <td>0.02826086956521739</td>\n",
       "      <td>0.034782608695652174</td>\n",
       "      <td>0.06304347826086956</td>\n",
       "    </tr>\n",
       "    <tr>\n",
       "      <th>3</th>\n",
       "      <td>F4</td>\n",
       "      <td>0.01956521739130435</td>\n",
       "      <td>0.030434782608695653</td>\n",
       "      <td>0.05</td>\n",
       "    </tr>\n",
       "    <tr>\n",
       "      <th>4</th>\n",
       "      <td>F5</td>\n",
       "      <td>0.017391304347826087</td>\n",
       "      <td>0.02391304347826087</td>\n",
       "      <td>0.041304347826086954</td>\n",
       "    </tr>\n",
       "    <tr>\n",
       "      <th>5</th>\n",
       "      <td>F6</td>\n",
       "      <td>0.02391304347826087</td>\n",
       "      <td>0.021739130434782608</td>\n",
       "      <td>0.04565217391304348</td>\n",
       "    </tr>\n",
       "    <tr>\n",
       "      <th>6</th>\n",
       "      <td>F7</td>\n",
       "      <td>0.02608695652173913</td>\n",
       "      <td>0.02391304347826087</td>\n",
       "      <td>0.05</td>\n",
       "    </tr>\n",
       "    <tr>\n",
       "      <th>7</th>\n",
       "      <td>F8</td>\n",
       "      <td>0.008695652173913044</td>\n",
       "      <td>0.02826086956521739</td>\n",
       "      <td>0.03695652173913044</td>\n",
       "    </tr>\n",
       "    <tr>\n",
       "      <th>8</th>\n",
       "      <td>F9</td>\n",
       "      <td>0.010869565217391304</td>\n",
       "      <td>0.02826086956521739</td>\n",
       "      <td>0.0391304347826087</td>\n",
       "    </tr>\n",
       "    <tr>\n",
       "      <th>9</th>\n",
       "      <td>F10</td>\n",
       "      <td>0.02608695652173913</td>\n",
       "      <td>0.021739130434782608</td>\n",
       "      <td>0.04782608695652174</td>\n",
       "    </tr>\n",
       "    <tr>\n",
       "      <th>10</th>\n",
       "      <td>AVG</td>\n",
       "      <td>0.030139268760413722</td>\n",
       "      <td>0.030139268760413722</td>\n",
       "      <td>0.030139268760413722</td>\n",
       "    </tr>\n",
       "  </tbody>\n",
       "</table>\n",
       "</div>"
      ],
      "text/plain": [
       "                      FP Rate               FN Rate    Overall Error Rate\n",
       "0    F1  0.004338394793926247   0.03470715835140998  0.039045553145336226\n",
       "1    F2  0.010869565217391304   0.02826086956521739    0.0391304347826087\n",
       "2    F3   0.02826086956521739  0.034782608695652174   0.06304347826086956\n",
       "3    F4   0.01956521739130435  0.030434782608695653                  0.05\n",
       "4    F5  0.017391304347826087   0.02391304347826087  0.041304347826086954\n",
       "5    F6   0.02391304347826087  0.021739130434782608   0.04565217391304348\n",
       "6    F7   0.02608695652173913   0.02391304347826087                  0.05\n",
       "7    F8  0.008695652173913044   0.02826086956521739   0.03695652173913044\n",
       "8    F9  0.010869565217391304   0.02826086956521739    0.0391304347826087\n",
       "9   F10   0.02608695652173913  0.021739130434782608   0.04782608695652174\n",
       "10  AVG  0.030139268760413722  0.030139268760413722  0.030139268760413722"
      ]
     },
     "execution_count": 5,
     "metadata": {},
     "output_type": "execute_result"
    }
   ],
   "source": [
    "# display the table\n",
    "import pandas as pd\n",
    "rows = np.array(['F'+str(i) for i in range(1,11)]+['AVG']).reshape((11,1))\n",
    "res_tab = pd.DataFrame(np.hstack((rows, res)), columns = ['','FP Rate','FN Rate','Overall Error Rate'])\n",
    "res_tab"
   ]
  },
  {
   "cell_type": "code",
   "execution_count": null,
   "metadata": {},
   "outputs": [],
   "source": []
  }
 ],
 "metadata": {
  "kernelspec": {
   "display_name": "Python 3",
   "language": "python",
   "name": "python3"
  },
  "language_info": {
   "codemirror_mode": {
    "name": "ipython",
    "version": 3
   },
   "file_extension": ".py",
   "mimetype": "text/x-python",
   "name": "python",
   "nbconvert_exporter": "python",
   "pygments_lexer": "ipython3",
   "version": "3.6.7"
  }
 },
 "nbformat": 4,
 "nbformat_minor": 2
}
